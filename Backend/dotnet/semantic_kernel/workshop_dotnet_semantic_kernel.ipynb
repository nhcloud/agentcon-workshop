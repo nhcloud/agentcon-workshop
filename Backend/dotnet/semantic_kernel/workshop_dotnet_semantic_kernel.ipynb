{
 "cells": [
  {
   "cell_type": "markdown",
   "id": "b51dce9e",
   "metadata": {},
   "source": [
    "# .NET Semantic Kernel Workshop\n",
    "\n",
    "This notebook demonstrates how to build AI agents using Microsoft Semantic Kernel in .NET 9 with Azure AI services.\n",
    "\n",
    "## Prerequisites\n",
    "- .NET 9 SDK installed\n",
    "- .NET Interactive extension for Jupyter\n",
    "- Azure OpenAI or Azure AI Inference endpoint\n",
    "- Valid environment configuration\n",
    "\n",
    "## Workshop Overview\n",
    "1. Install .NET Interactive Extension\n",
    "2. Set Up .NET Environment\n",
    "3. Create Basic .NET Project Structure\n",
    "4. Generate Notebook Metadata\n",
    "5. Create Notebook Cells with .NET Code\n",
    "6. Write Notebook to File\n",
    "7. Validate Generated Notebook"
   ]
  },
  {
   "cell_type": "markdown",
   "id": "3a1f13b4",
   "metadata": {},
   "source": [
    "## 1. Install .NET Interactive Extension\n",
    "\n",
    "First, ensure you have the .NET Interactive extension installed. This enables running C# code in Jupyter notebooks."
   ]
  },
  {
   "cell_type": "code",
   "execution_count": null,
   "id": "ed459cf8",
   "metadata": {
    "vscode": {
     "languageId": "csharp"
    }
   },
   "outputs": [],
   "source": [
    "// Check if .NET Interactive is available\n",
    "Console.WriteLine($\".NET Version: {Environment.Version}\");\n",
    "Console.WriteLine($\"Runtime: {System.Runtime.InteropServices.RuntimeInformation.FrameworkDescription}\");\n",
    "Console.WriteLine(\"✅ .NET Interactive is working!\");"
   ]
  },
  {
   "cell_type": "markdown",
   "id": "9644d241",
   "metadata": {},
   "source": [
    "## 2. Set Up .NET Environment\n",
    "\n",
    "Import necessary packages and set up the environment for working with Semantic Kernel and Azure AI services."
   ]
  },
  {
   "cell_type": "code",
   "execution_count": null,
   "id": "f13d4db4",
   "metadata": {
    "vscode": {
     "languageId": "csharp"
    }
   },
   "outputs": [],
   "source": [
    "// Install required NuGet packages\n",
    "#r \"nuget: Microsoft.SemanticKernel, 1.30.0\"\n",
    "#r \"nuget: Microsoft.SemanticKernel.Agents.OpenAI, 1.30.0-alpha\"\n",
    "#r \"nuget: Azure.AI.Inference, 1.0.0-beta.1\"\n",
    "#r \"nuget: Microsoft.Extensions.Configuration, 8.0.0\"\n",
    "#r \"nuget: Microsoft.Extensions.Configuration.Json, 8.0.0\"\n",
    "#r \"nuget: Microsoft.Extensions.DependencyInjection, 8.0.0\"\n",
    "#r \"nuget: Microsoft.Extensions.Logging, 8.0.0\"\n",
    "\n",
    "using Microsoft.SemanticKernel;\n",
    "using Microsoft.SemanticKernel.Agents;\n",
    "using Microsoft.SemanticKernel.Agents.OpenAI;\n",
    "using Microsoft.SemanticKernel.ChatCompletion;\n",
    "using Microsoft.SemanticKernel.Connectors.OpenAI;\n",
    "using Azure.AI.Inference;\n",
    "using Microsoft.Extensions.Configuration;\n",
    "using Microsoft.Extensions.DependencyInjection;\n",
    "using Microsoft.Extensions.Logging;\n",
    "using System.ComponentModel;\n",
    "using System.Text.Json;\n",
    "using System.Text.Json.Serialization;\n",
    "\n",
    "Console.WriteLine(\"✅ Packages and namespaces imported successfully!\");"
   ]
  },
  {
   "cell_type": "markdown",
   "id": "b318156a",
   "metadata": {},
   "source": [
    "## 3. Create Basic .NET Project Structure\n",
    "\n",
    "Define the basic structure and configuration for our Semantic Kernel project."
   ]
  },
  {
   "cell_type": "code",
   "execution_count": null,
   "id": "5518c6bc",
   "metadata": {
    "vscode": {
     "languageId": "csharp"
    }
   },
   "outputs": [],
   "source": [
    "// Configuration class for Azure AI services\n",
    "public class AzureAIConfig\n",
    "{\n",
    "    public string EndpointType { get; set; } = \"AzureOpenAI\";\n",
    "    public string Endpoint { get; set; } = \"\";\n",
    "    public string ApiKey { get; set; } = \"\";\n",
    "    public string ModelDeploymentName { get; set; } = \"gpt-4o\";\n",
    "    public string ApiVersion { get; set; } = \"2024-08-01-preview\";\n",
    "}\n",
    "\n",
    "// Load configuration from environment or appsettings\n",
    "var config = new AzureAIConfig();\n",
    "\n",
    "// Try to load from environment variables\n",
    "config.Endpoint = Environment.GetEnvironmentVariable(\"AZURE_AI_ENDPOINT\") ?? \"\";\n",
    "config.ApiKey = Environment.GetEnvironmentVariable(\"AZURE_AI_API_KEY\") ?? \"\";\n",
    "config.ModelDeploymentName = Environment.GetEnvironmentVariable(\"AZURE_AI_MODEL_DEPLOYMENT_NAME\") ?? \"gpt-4o\";\n",
    "\n",
    "Console.WriteLine($\"Configuration loaded - Endpoint Type: {config.EndpointType}\");\n",
    "Console.WriteLine($\"Model: {config.ModelDeploymentName}\");\n",
    "Console.WriteLine($\"Endpoint configured: {!string.IsNullOrEmpty(config.Endpoint)}\");"
   ]
  },
  {
   "cell_type": "markdown",
   "id": "964b0fa8",
   "metadata": {},
   "source": [
    "## 4. Initialize Semantic Kernel\n",
    "\n",
    "Set up the Semantic Kernel with Azure AI services using managed identity and secure authentication."
   ]
  },
  {
   "cell_type": "code",
   "execution_count": null,
   "id": "c76210cb",
   "metadata": {
    "vscode": {
     "languageId": "csharp"
    }
   },
   "outputs": [],
   "source": [
    "// Initialize Semantic Kernel with Azure AI services\n",
    "var builder = Kernel.CreateBuilder();\n",
    "\n",
    "// Configure logging\n",
    "using ILoggerFactory loggerFactory = LoggerFactory.Create(builder =>\n",
    "    builder.AddConsole().SetMinimumLevel(LogLevel.Information));\n",
    "\n",
    "try\n",
    "{\n",
    "    if (config.EndpointType == \"AzureOpenAI\")\n",
    "    {\n",
    "        // Azure OpenAI configuration with secure authentication\n",
    "        builder.AddAzureOpenAIChatCompletion(\n",
    "            deploymentName: config.ModelDeploymentName,\n",
    "            endpoint: config.Endpoint,\n",
    "            apiKey: config.ApiKey, // In production, use Managed Identity\n",
    "            serviceId: \"azure-openai\",\n",
    "            modelId: config.ModelDeploymentName\n",
    "        );\n",
    "        Console.WriteLine(\"✅ Azure OpenAI service configured\");\n",
    "    }\n",
    "    else if (config.EndpointType == \"AzureAIInference\")\n",
    "    {\n",
    "        // Azure AI Inference configuration\n",
    "        builder.AddAzureAIInferenceChatCompletion(\n",
    "            modelId: config.ModelDeploymentName,\n",
    "            endpoint: new Uri(config.Endpoint),\n",
    "            credential: new System.ClientModel.ApiKeyCredential(config.ApiKey)\n",
    "        );\n",
    "        Console.WriteLine(\"✅ Azure AI Inference service configured\");\n",
    "    }\n",
    "\n",
    "    // Build the kernel\n",
    "    var kernel = builder.Build();\n",
    "    \n",
    "    // Test the connection\n",
    "    var chatService = kernel.GetRequiredService<IChatCompletionService>();\n",
    "    Console.WriteLine($\"✅ Kernel initialized successfully with {config.EndpointType}\");\n",
    "    Console.WriteLine($\"Chat service: {chatService.GetType().Name}\");\n",
    "}\n",
    "catch (Exception ex)\n",
    "{\n",
    "    Console.WriteLine($\"❌ Error initializing kernel: {ex.Message}\");\n",
    "    throw;\n",
    "}"
   ]
  },
  {
   "cell_type": "markdown",
   "id": "32b4d2e1",
   "metadata": {},
   "source": [
    "## 5. Create AI Agents\n",
    "\n",
    "Define specialized AI agents for different roles using Semantic Kernel's agent framework."
   ]
  },
  {
   "cell_type": "code",
   "execution_count": null,
   "id": "e08b0b17",
   "metadata": {
    "vscode": {
     "languageId": "csharp"
    }
   },
   "outputs": [],
   "source": [
    "// Create specialized AI agents with different personalities and roles\n",
    "public class AgentDefinition\n",
    "{\n",
    "    public string Name { get; set; }\n",
    "    public string Instructions { get; set; }\n",
    "    public string Description { get; set; }\n",
    "}\n",
    "\n",
    "// Define agent configurations\n",
    "var agentDefinitions = new List<AgentDefinition>\n",
    "{\n",
    "    new AgentDefinition\n",
    "    {\n",
    "        Name = \"TechExpert\",\n",
    "        Instructions = @\"You are a technical expert specializing in software development, cloud computing, and AI technologies. \n",
    "                        Provide detailed, accurate technical information with practical examples. \n",
    "                        Always consider security, performance, and best practices in your responses.\",\n",
    "        Description = \"Expert in software development and cloud technologies\"\n",
    "    },\n",
    "    new AgentDefinition\n",
    "    {\n",
    "        Name = \"BusinessAnalyst\",\n",
    "        Instructions = @\"You are a business analyst who excels at understanding business requirements and translating them into technical specifications. \n",
    "                        Focus on ROI, user experience, and business value. \n",
    "                        Ask clarifying questions to better understand business needs.\",\n",
    "        Description = \"Business analyst focused on requirements and value delivery\"\n",
    "    },\n",
    "    new AgentDefinition\n",
    "    {\n",
    "        Name = \"ProjectManager\",\n",
    "        Instructions = @\"You are an experienced project manager skilled in agile methodologies and team coordination. \n",
    "                        Help break down complex tasks, estimate timelines, and identify potential risks. \n",
    "                        Focus on practical project execution and team collaboration.\",\n",
    "        Description = \"Project manager specializing in agile delivery\"\n",
    "    }\n",
    "};\n",
    "\n",
    "Console.WriteLine($\"✅ Defined {agentDefinitions.Count} agent configurations:\");\n",
    "foreach (var agent in agentDefinitions)\n",
    "{\n",
    "    Console.WriteLine($\"  - {agent.Name}: {agent.Description}\");\n",
    "}"
   ]
  },
  {
   "cell_type": "code",
   "execution_count": null,
   "id": "7f0b3447",
   "metadata": {
    "vscode": {
     "languageId": "csharp"
    }
   },
   "outputs": [],
   "source": [
    "// Create actual agent instances using OpenAI Assistant API\n",
    "var agents = new Dictionary<string, ChatCompletionAgent>();\n",
    "\n",
    "try\n",
    "{\n",
    "    foreach (var agentDef in agentDefinitions)\n",
    "    {\n",
    "        var agent = new ChatCompletionAgent()\n",
    "        {\n",
    "            Instructions = agentDef.Instructions,\n",
    "            Name = agentDef.Name,\n",
    "            Kernel = kernel,\n",
    "            Arguments = new KernelArguments(new OpenAIPromptExecutionSettings()\n",
    "            {\n",
    "                Temperature = 0.7,\n",
    "                MaxTokens = 1000,\n",
    "                TopP = 1.0\n",
    "            })\n",
    "        };\n",
    "        \n",
    "        agents[agentDef.Name] = agent;\n",
    "        Console.WriteLine($\"✅ Created agent: {agentDef.Name}\");\n",
    "    }\n",
    "    \n",
    "    Console.WriteLine($\"\\n✅ Successfully created {agents.Count} AI agents\");\n",
    "}\n",
    "catch (Exception ex)\n",
    "{\n",
    "    Console.WriteLine($\"❌ Error creating agents: {ex.Message}\");\n",
    "    throw;\n",
    "}"
   ]
  },
  {
   "cell_type": "markdown",
   "id": "033e585f",
   "metadata": {},
   "source": [
    "## 6. Test Single Agent Interaction\n",
    "\n",
    "Test individual agent responses to verify they're working correctly."
   ]
  },
  {
   "cell_type": "code",
   "execution_count": null,
   "id": "837fb164",
   "metadata": {
    "vscode": {
     "languageId": "csharp"
    }
   },
   "outputs": [],
   "source": [
    "// Test individual agent interaction\n",
    "async Task TestSingleAgent(string agentName, string message)\n",
    "{\n",
    "    if (!agents.ContainsKey(agentName))\n",
    "    {\n",
    "        Console.WriteLine($\"❌ Agent '{agentName}' not found\");\n",
    "        return;\n",
    "    }\n",
    "\n",
    "    try\n",
    "    {\n",
    "        Console.WriteLine($\"\\n🤖 Testing {agentName} Agent\");\n",
    "        Console.WriteLine($\"📝 Input: {message}\");\n",
    "        Console.WriteLine(\"🔄 Processing...\\n\");\n",
    "\n",
    "        var agent = agents[agentName];\n",
    "        var history = new ChatHistory();\n",
    "        history.AddUserMessage(message);\n",
    "\n",
    "        await foreach (var response in agent.InvokeStreamingAsync(history))\n",
    "        {\n",
    "            Console.Write(response.Content);\n",
    "        }\n",
    "        \n",
    "        Console.WriteLine($\"\\n\\n✅ {agentName} response completed\\n\");\n",
    "    }\n",
    "    catch (Exception ex)\n",
    "    {\n",
    "        Console.WriteLine($\"❌ Error testing {agentName}: {ex.Message}\");\n",
    "    }\n",
    "}\n",
    "\n",
    "// Test the TechExpert agent\n",
    "await TestSingleAgent(\"TechExpert\", \"What are the best practices for implementing microservices with .NET and Azure?\");"
   ]
  },
  {
   "cell_type": "markdown",
   "id": "ff423572",
   "metadata": {},
   "source": [
    "## 7. Create Agent Group Chat\n",
    "\n",
    "Implement a multi-agent conversation system where agents can collaborate and discuss topics."
   ]
  },
  {
   "cell_type": "code",
   "execution_count": null,
   "id": "8cea1f58",
   "metadata": {
    "vscode": {
     "languageId": "csharp"
    }
   },
   "outputs": [],
   "source": [
    "// Create an agent group chat with selection strategy\n",
    "var agentGroupChat = new AgentGroupChat(agents.Values.ToArray())\n",
    "{\n",
    "    ExecutionSettings = new()\n",
    "    {\n",
    "        // Configure termination strategy\n",
    "        TerminationStrategy = new KernelFunctionTerminationStrategy(\n",
    "            KernelFunctionFactory.CreateFromMethod(\n",
    "                ([Description(\"The chat history\")] ChatHistory history) =>\n",
    "                {\n",
    "                    // Terminate after 6 messages or if conclusion is reached\n",
    "                    return history.Count >= 6 || \n",
    "                           history.LastOrDefault()?.Content?.Contains(\"conclusion\", StringComparison.OrdinalIgnoreCase) == true;\n",
    "                }),\n",
    "            kernel)\n",
    "        {\n",
    "            MaximumIterations = 10\n",
    "        },\n",
    "        \n",
    "        // Configure agent selection strategy\n",
    "        SelectionStrategy = new KernelFunctionSelectionStrategy(\n",
    "            KernelFunctionFactory.CreateFromMethod(\n",
    "                ([Description(\"The chat history\")] ChatHistory history) =>\n",
    "                {\n",
    "                    // Simple round-robin selection with some intelligence\n",
    "                    var messageCount = history.Count;\n",
    "                    var agentNames = agents.Keys.ToArray();\n",
    "                    \n",
    "                    // First message always goes to TechExpert\n",
    "                    if (messageCount <= 1) return \"TechExpert\";\n",
    "                    \n",
    "                    // Cycle through agents\n",
    "                    var index = (messageCount - 1) % agentNames.Length;\n",
    "                    return agentNames[index];\n",
    "                }),\n",
    "            kernel)\n",
    "    }\n",
    "};\n",
    "\n",
    "Console.WriteLine(\"✅ Agent group chat configured with intelligent selection and termination strategies\");"
   ]
  },
  {
   "cell_type": "code",
   "execution_count": null,
   "id": "489cc6a2",
   "metadata": {
    "vscode": {
     "languageId": "csharp"
    }
   },
   "outputs": [],
   "source": [
    "// Execute a group chat conversation\n",
    "async Task RunGroupChat(string initialMessage)\n",
    "{\n",
    "    try\n",
    "    {\n",
    "        Console.WriteLine(\"🚀 Starting Agent Group Chat\");\n",
    "        Console.WriteLine($\"📝 Topic: {initialMessage}\");\n",
    "        Console.WriteLine(\"=\" * 80);\n",
    "\n",
    "        // Add initial user message\n",
    "        agentGroupChat.AddChatMessage(new ChatMessageContent(AuthorRole.User, initialMessage));\n",
    "\n",
    "        // Execute the group chat\n",
    "        await foreach (var response in agentGroupChat.InvokeStreamingAsync())\n",
    "        {\n",
    "            Console.WriteLine($\"\\n🤖 {response.AuthorName ?? \"System\"}:\");\n",
    "            Console.WriteLine($\"{response.Content}\");\n",
    "            Console.WriteLine(\"-\" * 40);\n",
    "        }\n",
    "\n",
    "        Console.WriteLine(\"\\n✅ Group chat completed\");\n",
    "    }\n",
    "    catch (Exception ex)\n",
    "    {\n",
    "        Console.WriteLine($\"❌ Error in group chat: {ex.Message}\");\n",
    "        Console.WriteLine($\"Stack trace: {ex.StackTrace}\");\n",
    "    }\n",
    "}\n",
    "\n",
    "// Start a group discussion\n",
    "await RunGroupChat(\"We need to build a new e-commerce platform using cloud-native technologies. What should we consider for architecture, timeline, and implementation approach?\");"
   ]
  },
  {
   "cell_type": "markdown",
   "id": "de8a502a",
   "metadata": {},
   "source": [
    "## 8. Advanced Features - Function Calling\n",
    "\n",
    "Demonstrate how to add custom functions that agents can call to extend their capabilities."
   ]
  },
  {
   "cell_type": "code",
   "execution_count": null,
   "id": "8ebe320c",
   "metadata": {
    "vscode": {
     "languageId": "csharp"
    }
   },
   "outputs": [],
   "source": [
    "// Define custom functions that agents can call\n",
    "public class BusinessFunctions\n",
    "{\n",
    "    [KernelFunction, Description(\"Calculate project cost estimation based on complexity and duration\")]\n",
    "    public string CalculateProjectCost(\n",
    "        [Description(\"Project complexity: simple, medium, complex\")] string complexity,\n",
    "        [Description(\"Duration in months\")] int durationMonths,\n",
    "        [Description(\"Team size\")] int teamSize)\n",
    "    {\n",
    "        var complexityMultiplier = complexity.ToLower() switch\n",
    "        {\n",
    "            \"simple\" => 1.0,\n",
    "            \"medium\" => 1.5,\n",
    "            \"complex\" => 2.0,\n",
    "            _ => 1.5\n",
    "        };\n",
    "\n",
    "        var baseCostPerMonth = 15000; // Base cost per team member per month\n",
    "        var totalCost = baseCostPerMonth * teamSize * durationMonths * complexityMultiplier;\n",
    "\n",
    "        return $\"Estimated project cost: ${totalCost:N0} \" +\n",
    "               $\"(Complexity: {complexity}, Duration: {durationMonths} months, Team: {teamSize} people)\";\n",
    "    }\n",
    "\n",
    "    [KernelFunction, Description(\"Get current technology trends and recommendations\")]\n",
    "    public string GetTechnologyTrends([Description(\"Technology domain\")] string domain)\n",
    "    {\n",
    "        var trends = domain.ToLower() switch\n",
    "        {\n",
    "            \"cloud\" => \"Serverless computing, Kubernetes, Multi-cloud strategies, Edge computing\",\n",
    "            \"ai\" => \"Large Language Models, Computer Vision, MLOps, Responsible AI\",\n",
    "            \"web\" => \"Progressive Web Apps, JAMstack, Micro-frontends, WebAssembly\",\n",
    "            \"mobile\" => \"Cross-platform development, Flutter, React Native, 5G integration\",\n",
    "            _ => \"AI/ML integration, Cloud-native development, Microservices, DevOps automation\"\n",
    "        };\n",
    "\n",
    "        return $\"Current trends in {domain}: {trends}\";\n",
    "    }\n",
    "}\n",
    "\n",
    "// Add functions to kernel\n",
    "var businessFunctions = new BusinessFunctions();\n",
    "kernel.ImportPluginFromObject(businessFunctions, \"BusinessTools\");\n",
    "\n",
    "Console.WriteLine(\"✅ Custom business functions added to kernel\");\n",
    "Console.WriteLine(\"Functions available: CalculateProjectCost, GetTechnologyTrends\");"
   ]
  },
  {
   "cell_type": "markdown",
   "id": "c643a848",
   "metadata": {},
   "source": [
    "## 9. Test Function Calling with Agents\n",
    "\n",
    "Test how agents can discover and use the custom functions we've added."
   ]
  },
  {
   "cell_type": "code",
   "execution_count": null,
   "id": "ff75b353",
   "metadata": {
    "vscode": {
     "languageId": "csharp"
    }
   },
   "outputs": [],
   "source": [
    "// Test agent with function calling capabilities\n",
    "await TestSingleAgent(\"BusinessAnalyst\", \n",
    "    \"I need a cost estimate for a complex e-commerce project that will take 8 months with a team of 6 developers. \" +\n",
    "    \"Also, what are the current technology trends for web development?\");"
   ]
  },
  {
   "cell_type": "markdown",
   "id": "4f0dc703",
   "metadata": {},
   "source": [
    "## 10. Error Handling and Best Practices\n",
    "\n",
    "Demonstrate proper error handling, logging, and security practices for production use."
   ]
  },
  {
   "cell_type": "code",
   "execution_count": null,
   "id": "7333b6d8",
   "metadata": {
    "vscode": {
     "languageId": "csharp"
    }
   },
   "outputs": [],
   "source": [
    "// Demonstrate production-ready error handling and security practices\n",
    "public class SecureAgentService\n",
    "{\n",
    "    private readonly ILogger<SecureAgentService> _logger;\n",
    "    private readonly Kernel _kernel;\n",
    "    \n",
    "    public SecureAgentService(ILogger<SecureAgentService> logger, Kernel kernel)\n",
    "    {\n",
    "        _logger = logger;\n",
    "        _kernel = kernel;\n",
    "    }\n",
    "    \n",
    "    public async Task<string> SafeAgentInteraction(string userInput, string agentName)\n",
    "    {\n",
    "        try\n",
    "        {\n",
    "            // Input validation and sanitization\n",
    "            if (string.IsNullOrWhiteSpace(userInput))\n",
    "            {\n",
    "                throw new ArgumentException(\"User input cannot be empty\");\n",
    "            }\n",
    "            \n",
    "            if (userInput.Length > 2000)\n",
    "            {\n",
    "                throw new ArgumentException(\"User input exceeds maximum length\");\n",
    "            }\n",
    "            \n",
    "            // Rate limiting simulation\n",
    "            await Task.Delay(100); // Simulate rate limiting\n",
    "            \n",
    "            _logger.LogInformation(\"Processing request for agent {AgentName}\", agentName);\n",
    "            \n",
    "            // Secure agent execution with timeout\n",
    "            using var cts = new CancellationTokenSource(TimeSpan.FromMinutes(2));\n",
    "            \n",
    "            if (!agents.ContainsKey(agentName))\n",
    "            {\n",
    "                throw new InvalidOperationException($\"Agent {agentName} not found\");\n",
    "            }\n",
    "            \n",
    "            var agent = agents[agentName];\n",
    "            var history = new ChatHistory();\n",
    "            history.AddUserMessage(userInput);\n",
    "            \n",
    "            var response = new StringBuilder();\n",
    "            await foreach (var chunk in agent.InvokeStreamingAsync(history, cancellationToken: cts.Token))\n",
    "            {\n",
    "                response.Append(chunk.Content);\n",
    "            }\n",
    "            \n",
    "            _logger.LogInformation(\"Successfully processed request for agent {AgentName}\", agentName);\n",
    "            return response.ToString();\n",
    "        }\n",
    "        catch (OperationCanceledException)\n",
    "        {\n",
    "            _logger.LogWarning(\"Request timeout for agent {AgentName}\", agentName);\n",
    "            return \"Request timed out. Please try again with a simpler query.\";\n",
    "        }\n",
    "        catch (Exception ex)\n",
    "        {\n",
    "            _logger.LogError(ex, \"Error processing request for agent {AgentName}\", agentName);\n",
    "            return \"An error occurred while processing your request. Please try again.\";\n",
    "        }\n",
    "    }\n",
    "}\n",
    "\n",
    "// Test secure service\n",
    "var secureService = new SecureAgentService(\n",
    "    loggerFactory.CreateLogger<SecureAgentService>(), \n",
    "    kernel);\n",
    "\n",
    "var secureResponse = await secureService.SafeAgentInteraction(\n",
    "    \"What are the security considerations for cloud applications?\", \n",
    "    \"TechExpert\");\n",
    "\n",
    "Console.WriteLine($\"Secure response: {secureResponse.Substring(0, Math.Min(200, secureResponse.Length))}...\");\n",
    "Console.WriteLine(\"\\n✅ Demonstrated secure agent interaction with proper error handling\");"
   ]
  },
  {
   "cell_type": "markdown",
   "id": "ebdefe3f",
   "metadata": {},
   "source": [
    "## 11. Summary and Next Steps\n",
    "\n",
    "Congratulations! You've successfully created a comprehensive .NET Semantic Kernel implementation with:\n",
    "\n",
    "### ✅ What You've Built\n",
    "- **Multi-agent AI system** using Semantic Kernel with Azure AI services\n",
    "- **Secure authentication** with Azure OpenAI and Azure AI Inference\n",
    "- **Agent group chat** with intelligent selection strategies\n",
    "- **Custom function calling** for extended capabilities\n",
    "- **Production-ready error handling** and security practices\n",
    "- **Comprehensive logging** and monitoring\n",
    "\n",
    "### 🚀 Next Steps\n",
    "1. **Deploy to Azure**: Use Azure Container Apps or App Service\n",
    "2. **Add more functions**: Integrate with your business systems\n",
    "3. **Scale the solution**: Implement caching and rate limiting\n",
    "4. **Monitor performance**: Add Application Insights\n",
    "5. **Secure further**: Implement Managed Identity in production\n",
    "\n",
    "### 📚 Resources\n",
    "- [Semantic Kernel Documentation](https://learn.microsoft.com/semantic-kernel/)\n",
    "- [Azure OpenAI Service](https://learn.microsoft.com/azure/ai-services/openai/)\n",
    "- [Azure AI Inference SDK](https://learn.microsoft.com/azure/ai-studio/how-to/develop/sdk-overview)\n",
    "\n",
    "### 🔗 Integration\n",
    "This notebook complements the full workshop project available in the parent directories with FastAPI Python implementations and a React frontend."
   ]
  }
 ],
 "metadata": {
  "language_info": {
   "name": "python"
  }
 },
 "nbformat": 4,
 "nbformat_minor": 5
}

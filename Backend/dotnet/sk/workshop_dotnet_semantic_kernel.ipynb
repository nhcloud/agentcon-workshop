{
 "cells": [
  {
   "cell_type": "markdown",
   "id": "b51dce9e",
   "metadata": {},
   "source": [
    "## Prerequisites - Environment Setup\n",
    "\n",
    "Before starting this workshop, you need to set up a .NET development environment. Follow these steps:\n",
    "\n",
    "### Step 1: Install .NET 9 SDK\n",
    "Download and install the latest .NET 9 SDK from [https://dotnet.microsoft.com/download/dotnet/9.0](https://dotnet.microsoft.com/download/dotnet/9.0)\n",
    "\n",
    "### Step 2: Install .NET Interactive Extension\n",
    "In VS Code, install the \".NET Interactive Notebooks\" extension to run C# code in Jupyter notebooks.\n",
    "\n",
    "### Step 3: Create .env Configuration File\n",
    "Create a `.env` file in this directory (or the parent directory) with your Azure OpenAI credentials:\n",
    "```bash\n",
    "AZURE_OPENAI_ENDPOINT=https://your-resource.openai.azure.com/\n",
    "AZURE_OPENAI_API_KEY=your_api_key_here\n",
    "AZURE_OPENAI_DEPLOYMENT_NAME=gpt-4o-mini\n",
    "```\n",
    "\n",
    "**Important:** Never commit your `.env` file to version control! Add it to `.gitignore`.\n",
    "\n",
    "### Step 4: Select .NET Interactive Kernel\n",
    "1. Click on the **kernel selector** in the top-right corner of this notebook\n",
    "2. Select **\".NET Interactive\"**\n",
    "3. Choose **\"C#\"** as the language\n",
    "\n",
    "---\n",
    "\n",
    "# .NET Semantic Kernel Agents Workshop\n",
    "\n",
    "This notebook demonstrates modern AI agent development using Microsoft Semantic Kernel in .NET 9 with Azure OpenAI services.\n",
    "\n",
    "## Workshop Focus Areas\n",
    "1. **ChatCompletionAgent** - Build generic agents using the latest Semantic Kernel agent framework\n",
    "2. **Azure AI Foundry Agents** - Demonstrate specialized agents like PeopleLookupAgent\n",
    "3. **Group Chat System** - Multi-agent collaboration with built-in orchestration\n",
    "\n",
    "## Key Technologies\n",
    "- **Semantic Kernel 1.65.0** - Microsoft's latest AI orchestration framework\n",
    "- **ChatCompletionAgent** - Modern agent pattern for conversational AI\n",
    "- **Azure OpenAI** - GPT-4 models for intelligent responses\n",
    "- **Agent Group Chat** - Built-in multi-agent coordination\n",
    "\n",
    "Let's build sophisticated AI agent systems using the latest Semantic Kernel patterns!"
   ]
  },
  {
   "cell_type": "markdown",
   "id": "3a1f13b4",
   "metadata": {},
   "source": [
    "### Step 1: Verify .NET Environment"
   ]
  },
  {
   "cell_type": "code",
   "execution_count": null,
   "id": "ed459cf8",
   "metadata": {
    "language_info": {
     "name": "polyglot-notebook"
    },
    "polyglot_notebook": {
     "kernelName": "csharp"
    }
   },
   "outputs": [],
   "source": [
    "// Step 1: Verify .NET Environment\n",
    "// Check if .NET Interactive is working properly\n",
    "\n",
    "using System;\n",
    "using System.Runtime.InteropServices;\n",
    "\n",
    "Console.WriteLine(\"=== .NET Environment Check ===\");\n",
    "Console.WriteLine($\".NET Version: {Environment.Version}\");\n",
    "Console.WriteLine($\"Runtime: {RuntimeInformation.FrameworkDescription}\");\n",
    "Console.WriteLine($\"OS: {RuntimeInformation.OSDescription}\");\n",
    "Console.WriteLine($\"Architecture: {RuntimeInformation.OSArchitecture}\");\n",
    "Console.WriteLine();\n",
    "Console.WriteLine(\"✓ .NET Interactive is working!\");\n",
    "Console.WriteLine(\"Ready to install Semantic Kernel packages!\");\n",
    "\n",
    "// Return a value to ensure cell execution is visible\n",
    "Console.WriteLine(\"Environment check completed successfully!\");\n",
    "\"SUCCESS: .NET Interactive is running properly\""
   ]
  },
  {
   "cell_type": "markdown",
   "id": "9644d241",
   "metadata": {},
   "source": [
    "### Step 2: Install Semantic Kernel Packages"
   ]
  },
  {
   "cell_type": "code",
   "execution_count": null,
   "id": "806e4523",
   "metadata": {
    "language_info": {
     "name": "polyglot-notebook"
    },
    "polyglot_notebook": {
     "kernelName": "csharp"
    }
   },
   "outputs": [],
   "source": [
    "// Step 2: Install Required NuGet Packages\n",
    "// Install the latest Semantic Kernel packages for agent development\n",
    "\n",
    "Console.WriteLine(\"Installing Semantic Kernel packages...\");\n",
    "\n",
    "// Core Semantic Kernel package\n",
    "#r \"nuget: Microsoft.SemanticKernel, 1.65.0\"\n",
    "\n",
    "// Agents package for multi-agent scenarios  \n",
    "#r \"nuget: Microsoft.SemanticKernel.Agents.OpenAI, 1.65.0\"\n",
    "\n",
    "// Azure OpenAI connector\n",
    "#r \"nuget: Microsoft.SemanticKernel.Connectors.OpenAI, 1.65.0\"\n",
    "\n",
    "// .NET Configuration and Environment support\n",
    "#r \"nuget: DotNetEnv, 3.1.1\"\n",
    "\n",
    "// Additional useful packages\n",
    "#r \"nuget: Microsoft.Extensions.Logging, 9.0.0\"\n",
    "#r \"nuget: Microsoft.Extensions.Logging.Console, 9.0.0\"\n",
    "#r \"nuget: Microsoft.Extensions.DependencyInjection, 9.0.0\"\n",
    "\n",
    "Console.WriteLine(\"✓ All Semantic Kernel packages installed successfully!\");\n",
    "Console.WriteLine(\"Ready to import namespaces and create agents!\")"
   ]
  },
  {
   "cell_type": "markdown",
   "id": "d848dc39",
   "metadata": {},
   "source": [
    "### Troubleshooting: If You Don't See Output\n",
    "\n",
    "**If the Run button does nothing or no output appears:**\n",
    "\n",
    "#### 🚨 Most Common Issue: Kernel Not Selected\n",
    "1. **Look at the top-right corner** of the notebook - you should see something like \".NET Interactive\" or \"C#\"\n",
    "2. **If you see \"Select Kernel\"** or a different kernel:\n",
    "   - Click on it\n",
    "   - Select **\".NET Interactive\"**\n",
    "   - Choose **\"C#\"** from the sub-menu\n",
    "\n",
    "#### 🔧 Other Solutions to Try:\n",
    "\n",
    "1. **Install .NET Interactive Extension**:\n",
    "   - Press `Ctrl+Shift+X` to open Extensions\n",
    "   - Search for **\".NET Interactive Notebooks\"** by Microsoft\n",
    "   - Install if not already installed\n",
    "   - **Reload VS Code** after installation\n",
    "\n",
    "2. **Restart Everything**:\n",
    "   - Press `Ctrl+Shift+P`\n",
    "   - Type \"Developer: Reload Window\"\n",
    "   - Reopen the notebook and try again\n",
    "\n",
    "3. **Check .NET Installation**:\n",
    "   - Open a terminal (`Ctrl+Shift+``)\n",
    "   - Run: `dotnet --version`\n",
    "   - Should show .NET 8.0 or later\n",
    "\n",
    "4. **Force Kernel Selection**:\n",
    "   - Press `Ctrl+Shift+P`\n",
    "   - Type \"Notebook: Select Notebook Kernel\"\n",
    "   - Choose \".NET Interactive\" → \"C#\"\n",
    "\n",
    "**The cell below should show \"42\" as output if everything is working.**"
   ]
  },
  {
   "cell_type": "markdown",
   "id": "b318156a",
   "metadata": {},
   "source": [
    "### Step 3: Automatic .env Configuration\n",
    "\n",
    "This notebook automatically loads your Azure OpenAI configuration from a `.env` file, making it much easier for beginners! \n",
    "\n",
    "**How it works:**\n",
    "1. The notebook searches for a `.env` file in the current directory or parent directories\n",
    "2. It automatically loads all environment variables from the file\n",
    "3. No need to manually set environment variables or edit code\n",
    "\n",
    "**Sample .env file:**\n",
    "```\n",
    "AZURE_OPENAI_ENDPOINT=https://your-resource.openai.azure.com/\n",
    "AZURE_OPENAI_API_KEY=your_api_key_here\n",
    "AZURE_OPENAI_DEPLOYMENT_NAME=gpt-4o-mini\n",
    "```\n",
    "\n",
    "**Benefits of .env approach:**\n",
    "- ✅ No code modification needed\n",
    "- ✅ Secure credential management\n",
    "- ✅ Easy to share configurations\n",
    "- ✅ Matches Python workshop pattern\n",
    "- ✅ Beginner-friendly setup\n",
    "\n",
    "**Next:** Import Required Namespaces"
   ]
  },
  {
   "cell_type": "code",
   "execution_count": null,
   "id": "5518c6bc",
   "metadata": {
    "language_info": {
     "name": "polyglot-notebook"
    },
    "polyglot_notebook": {
     "kernelName": "csharp"
    }
   },
   "outputs": [],
   "source": [
    "// Step 3: Import Required Namespaces\n",
    "// Import all the Semantic Kernel namespaces for modern agent development\n",
    "\n",
    "using Microsoft.SemanticKernel;\n",
    "using Microsoft.SemanticKernel.Agents;\n",
    "using Microsoft.SemanticKernel.Agents.OpenAI;\n",
    "using Microsoft.SemanticKernel.ChatCompletion;\n",
    "using Microsoft.SemanticKernel.Connectors.OpenAI;\n",
    "using Microsoft.Extensions.Logging;\n",
    "using Microsoft.Extensions.DependencyInjection;\n",
    "using System.ComponentModel;\n",
    "using System.IO;\n",
    "using DotNetEnv;\n",
    "\n",
    "Console.WriteLine(\"✓ All namespaces imported successfully!\");\n",
    "Console.WriteLine(\"Ready to configure Azure OpenAI and create modern agents!\");"
   ]
  },
  {
   "cell_type": "markdown",
   "id": "964b0fa8",
   "metadata": {},
   "source": [
    "### Step 4: Configure Azure OpenAI"
   ]
  },
  {
   "cell_type": "code",
   "execution_count": null,
   "id": "c76210cb",
   "metadata": {
    "language_info": {
     "name": "polyglot-notebook"
    },
    "polyglot_notebook": {
     "kernelName": "csharp"
    }
   },
   "outputs": [],
   "source": [
    "// Step 4: Configure Azure OpenAI Connection\n",
    "// Automatically load configuration from .env file\n",
    "\n",
    "Console.WriteLine(\"Configuring Azure OpenAI...\");\n",
    "\n",
    "// Load .env file from current directory or parent directories\n",
    "try\n",
    "{\n",
    "    // Try loading .env from current notebook directory\n",
    "    var notebookDir = Directory.GetCurrentDirectory();\n",
    "    var envFile = Path.Combine(notebookDir, \".env\");\n",
    "    \n",
    "    if (File.Exists(envFile))\n",
    "    {\n",
    "        Env.Load(envFile);\n",
    "        Console.WriteLine($\"✓ Loaded .env file from: {envFile}\");\n",
    "    }\n",
    "    else\n",
    "    {\n",
    "        // Try parent directories (common pattern)\n",
    "        var parentDir = Directory.GetParent(notebookDir);\n",
    "        while (parentDir != null)\n",
    "        {\n",
    "            envFile = Path.Combine(parentDir.FullName, \".env\");\n",
    "            if (File.Exists(envFile))\n",
    "            {\n",
    "                Env.Load(envFile);\n",
    "                Console.WriteLine($\"✓ Loaded .env file from: {envFile}\");\n",
    "                break;\n",
    "            }\n",
    "            parentDir = parentDir.Parent;\n",
    "        }\n",
    "        \n",
    "        if (parentDir == null)\n",
    "        {\n",
    "            Console.WriteLine(\"! No .env file found, using system environment variables\");\n",
    "        }\n",
    "    }\n",
    "}\n",
    "catch (Exception ex)\n",
    "{\n",
    "    Console.WriteLine($\"! Error loading .env file: {ex.Message}\");\n",
    "    Console.WriteLine(\"Falling back to system environment variables\");\n",
    "}\n",
    "\n",
    "// Load configuration from environment variables (now populated from .env)\n",
    "var azureOpenAIEndpoint = Environment.GetEnvironmentVariable(\"AZURE_OPENAI_ENDPOINT\");\n",
    "var azureOpenAIApiKey = Environment.GetEnvironmentVariable(\"AZURE_OPENAI_API_KEY\");\n",
    "var deploymentName = Environment.GetEnvironmentVariable(\"AZURE_OPENAI_DEPLOYMENT_NAME\") ?? \"gpt-4o-mini\";\n",
    "\n",
    "// Required environment variables\n",
    "var requiredVars = new Dictionary<string, string?>\n",
    "{\n",
    "    { \"AZURE_OPENAI_ENDPOINT\", azureOpenAIEndpoint },\n",
    "    { \"AZURE_OPENAI_API_KEY\", azureOpenAIApiKey },\n",
    "    { \"AZURE_OPENAI_DEPLOYMENT_NAME\", deploymentName }\n",
    "};\n",
    "\n",
    "// Check if all required variables are present\n",
    "var missingVars = requiredVars.Where(kvp => string.IsNullOrWhiteSpace(kvp.Value)).Select(kvp => kvp.Key).ToList();\n",
    "\n",
    "if (missingVars.Any())\n",
    "{\n",
    "    Console.WriteLine(\"❌ Missing required Azure OpenAI configuration!\");\n",
    "    Console.WriteLine($\"Missing variables: {string.Join(\", \", missingVars)}\");\n",
    "    Console.WriteLine();\n",
    "    Console.WriteLine(\"To fix this, create a .env file in this directory (or parent directory) with:\");\n",
    "    Console.WriteLine(\"AZURE_OPENAI_ENDPOINT=https://your-resource.openai.azure.com/\");\n",
    "    Console.WriteLine(\"AZURE_OPENAI_API_KEY=your_api_key_here\");\n",
    "    Console.WriteLine(\"AZURE_OPENAI_DEPLOYMENT_NAME=gpt-4o-mini\");\n",
    "    Console.WriteLine();\n",
    "    Console.WriteLine(\"Then restart this notebook kernel and run this cell again.\");\n",
    "    throw new InvalidOperationException(\"Required Azure OpenAI configuration missing!\");\n",
    "}\n",
    "\n",
    "Console.WriteLine(\"✓ Azure OpenAI configuration loaded successfully!\");\n",
    "Console.WriteLine($\"Endpoint: {azureOpenAIEndpoint}\");\n",
    "Console.WriteLine($\"Deployment: {deploymentName}\");\n",
    "Console.WriteLine(\"Ready to create Semantic Kernel!\");"
   ]
  },
  {
   "cell_type": "markdown",
   "id": "32b4d2e1",
   "metadata": {},
   "source": [
    "### Step 5: Create Semantic Kernel Instance"
   ]
  },
  {
   "cell_type": "code",
   "execution_count": null,
   "id": "e08b0b17",
   "metadata": {
    "language_info": {
     "name": "polyglot-notebook"
    },
    "polyglot_notebook": {
     "kernelName": "csharp"
    }
   },
   "outputs": [],
   "source": [
    "// Step 5: Create Semantic Kernel Instance\n",
    "// Set up the Semantic Kernel with Azure OpenAI chat completion\n",
    "\n",
    "Console.WriteLine(\"Creating Semantic Kernel...\");\n",
    "\n",
    "// Create Kernel Builder\n",
    "var builder = Kernel.CreateBuilder();\n",
    "\n",
    "// Add Azure OpenAI Chat Completion service\n",
    "builder.AddAzureOpenAIChatCompletion(\n",
    "    deploymentName: deploymentName,\n",
    "    endpoint: azureOpenAIEndpoint,\n",
    "    apiKey: azureOpenAIApiKey);\n",
    "\n",
    "// Add logging\n",
    "builder.Services.AddLogging(c => c.AddConsole().SetMinimumLevel(LogLevel.Information));\n",
    "\n",
    "// Build the kernel\n",
    "var kernel = builder.Build();\n",
    "\n",
    "Console.WriteLine(\"✓ Semantic Kernel created successfully!\");\n",
    "Console.WriteLine(\"Ready to create our first agent!\");"
   ]
  },
  {
   "cell_type": "code",
   "execution_count": null,
   "id": "7f0b3447",
   "metadata": {
    "language_info": {
     "name": "polyglot-notebook"
    },
    "polyglot_notebook": {
     "kernelName": "csharp"
    }
   },
   "outputs": [],
   "source": [
    "// Step 6: Create Your First ChatCompletionAgent\n",
    "// This demonstrates the modern Semantic Kernel agent pattern\n",
    "\n",
    "Console.WriteLine(\"Creating ChatCompletionAgent...\");\n",
    "\n",
    "// Create a generic ChatCompletionAgent\n",
    "var genericAgent = new ChatCompletionAgent()\n",
    "{\n",
    "    Name = \"GenericAssistant\",\n",
    "    Instructions = @\"You are a helpful AI assistant that can answer questions and have conversations.\n",
    "    \n",
    "    Your capabilities include:\n",
    "    - Answering general questions\n",
    "    - Helping with problem-solving\n",
    "    - Providing explanations and information\n",
    "    - Having natural conversations\n",
    "    \n",
    "    Always be helpful, accurate, and professional in your responses.\",\n",
    "    Kernel = kernel\n",
    "};\n",
    "\n",
    "Console.WriteLine(\"✓ ChatCompletionAgent created successfully!\");\n",
    "Console.WriteLine($\"Agent Name: {genericAgent.Name}\");\n",
    "Console.WriteLine($\"Agent Type: {genericAgent.GetType().Name}\");\n",
    "Console.WriteLine(\"Ready to test the modern agent pattern!\");"
   ]
  },
  {
   "cell_type": "markdown",
   "id": "033e585f",
   "metadata": {},
   "source": [
    "### Test Your First Agent"
   ]
  },
  {
   "cell_type": "code",
   "execution_count": null,
   "id": "837fb164",
   "metadata": {
    "language_info": {
     "name": "polyglot-notebook"
    },
    "polyglot_notebook": {
     "kernelName": "csharp"
    }
   },
   "outputs": [],
   "source": [
    "// Test the ChatCompletionAgent\n",
    "// Send a message to the agent and see its response\n",
    "\n",
    "Console.WriteLine(\"Testing the ChatCompletionAgent...\");\n",
    "\n",
    "// Create a chat history for the conversation\n",
    "var chatHistory = new ChatHistory();\n",
    "\n",
    "// Test message - you can modify this to ask different questions\n",
    "var userMessage = \"Hello! What is artificial intelligence and how does it work?\";\n",
    "\n",
    "Console.WriteLine($\"User: {userMessage}\");\n",
    "chatHistory.AddUserMessage(userMessage);\n",
    "\n",
    "try\n",
    "{\n",
    "    // Get agent response using the modern agent pattern\n",
    "    await foreach (var response in genericAgent.InvokeAsync(chatHistory))\n",
    "    {\n",
    "        Console.WriteLine($\"Agent ({genericAgent.Name}): {response.Content}\");\n",
    "        // Add the agent's response to chat history for context\n",
    "        chatHistory.Add(response);\n",
    "    }\n",
    "    \n",
    "    Console.WriteLine();\n",
    "    Console.WriteLine(\"✓ ChatCompletionAgent test completed successfully!\");\n",
    "    Console.WriteLine(\"You can modify the userMessage above to test different questions.\");\n",
    "}\n",
    "catch (Exception ex)\n",
    "{\n",
    "    Console.WriteLine($\"❌ Error testing agent: {ex.Message}\");\n",
    "    Console.WriteLine(\"Please check your Azure OpenAI configuration.\");\n",
    "}"
   ]
  },
  {
   "cell_type": "markdown",
   "id": "ff423572",
   "metadata": {},
   "source": [
    "### Create Azure AI Foundry Agents"
   ]
  },
  {
   "cell_type": "code",
   "execution_count": null,
   "id": "8cea1f58",
   "metadata": {
    "language_info": {
     "name": "polyglot-notebook"
    },
    "polyglot_notebook": {
     "kernelName": "csharp"
    }
   },
   "outputs": [],
   "source": [
    "// Create Azure AI Foundry Specialized Agents\n",
    "// These agents demonstrate the integration with Azure AI Foundry services\n",
    "\n",
    "Console.WriteLine(\"Creating Azure AI Foundry specialized agents...\");\n",
    "\n",
    "// People Lookup Agent - Expert at finding information about people\n",
    "var peopleAgent = new ChatCompletionAgent()\n",
    "{\n",
    "    Name = \"PeopleLookupAgent\",\n",
    "    Instructions = @\"You are a People Lookup Agent, an expert at finding and providing information about people, contacts, and team members.\n",
    "\n",
    "Your expertise includes:\n",
    "• Directory Searches: Finding people by name, role, department, or skills\n",
    "• Team Coordination: Understanding organizational structure and relationships  \n",
    "• Contact Discovery: Providing appropriate contact information\n",
    "• Role Identification: Matching people to specific tasks or expertise needs\n",
    "\n",
    "Guidelines for responses:\n",
    "- Be helpful and accurate when providing people information\n",
    "- If you don't know a specific person, explain what information would be helpful to find them\n",
    "- Suggest ways to locate people or get contact information\n",
    "- Provide guidance on organizational structure and team dynamics\n",
    "- Always try to be helpful for any people-related query\n",
    "\n",
    "Response Style:\n",
    "- Professional yet approachable\n",
    "- Clear and organized information\n",
    "- Include relevant context about why someone might be the right contact\",\n",
    "    Kernel = kernel\n",
    "};\n",
    "\n",
    "// Knowledge Finder Agent - Expert at searching and retrieving information\n",
    "var knowledgeAgent = new ChatCompletionAgent()\n",
    "{\n",
    "    Name = \"KnowledgeFinderAgent\", \n",
    "    Instructions = @\"You are a Knowledge Finder Agent, a specialist at searching, retrieving, and organizing information from various knowledge sources.\n",
    "\n",
    "Your expertise includes:\n",
    "• Document Search: Finding relevant documents, wikis, and knowledge bases\n",
    "• Research Assistance: Discovering and synthesizing information from multiple sources\n",
    "• Information Organization: Structuring and summarizing complex knowledge\n",
    "• Context Provision: Connecting related information and concepts\n",
    "• Relevance Filtering: Identifying the most pertinent information for specific needs\n",
    "\n",
    "Guidelines for responses:\n",
    "- Focus on finding the most relevant and accurate information\n",
    "- Provide clear summaries with key points highlighted\n",
    "- Help users understand complex information through clear explanations\n",
    "- Suggest additional related topics or resources for deeper learning\n",
    "- Structure information in a logical, easy-to-digest format\n",
    "\n",
    "Response Style:\n",
    "- Well-organized with clear headings and bullet points\n",
    "- Include actionable insights and takeaways\n",
    "- Provide both high-level summaries and detailed explanations as needed\",\n",
    "    Kernel = kernel\n",
    "};\n",
    "\n",
    "Console.WriteLine(\"✓ Azure AI Foundry agents created successfully!\");\n",
    "Console.WriteLine($\"1. {peopleAgent.Name} - Specializes in people and contact information\");\n",
    "Console.WriteLine($\"2. {knowledgeAgent.Name} - Expert at finding and organizing knowledge\");\n",
    "Console.WriteLine();\n",
    "Console.WriteLine(\"These agents demonstrate specialized capabilities that could integrate with Azure AI Foundry services!\");"
   ]
  },
  {
   "cell_type": "code",
   "execution_count": null,
   "id": "489cc6a2",
   "metadata": {
    "language_info": {
     "name": "polyglot-notebook"
    },
    "polyglot_notebook": {
     "kernelName": "csharp"
    }
   },
   "outputs": [],
   "source": [
    "// Test Azure AI Foundry Agents\n",
    "// Let's test each specialized agent with questions in their area of expertise\n",
    "\n",
    "Console.WriteLine(\"Testing Azure AI Foundry specialized agents...\");\n",
    "Console.WriteLine();\n",
    "\n",
    "// Test cases for each agent\n",
    "var testCases = new[]\n",
    "{\n",
    "    new { Agent = peopleAgent, Question = \"I need to find someone who can help with .NET development. Who should I contact?\" },\n",
    "    new { Agent = knowledgeAgent, Question = \"What are the best practices for implementing microservices architecture?\" }\n",
    "};\n",
    "\n",
    "for (int i = 0; i < testCases.Length; i++)\n",
    "{\n",
    "    var testCase = testCases[i];\n",
    "    \n",
    "    try\n",
    "    {\n",
    "        Console.WriteLine($\"Test {i + 1}: {testCase.Agent.Name}\");\n",
    "        Console.WriteLine($\"Question: {testCase.Question}\");\n",
    "        Console.WriteLine(new string('-', 50));\n",
    "        \n",
    "        // Create chat history for this test\n",
    "        var testChatHistory = new ChatHistory();\n",
    "        testChatHistory.AddUserMessage(testCase.Question);\n",
    "        \n",
    "        // Get response from the agent\n",
    "        await foreach (var response in testCase.Agent.InvokeAsync(testChatHistory))\n",
    "        {\n",
    "            Console.WriteLine($\"Response: {response.Content}\");\n",
    "        }\n",
    "        \n",
    "        Console.WriteLine(new string('=', 70));\n",
    "        Console.WriteLine();\n",
    "    }\n",
    "    catch (Exception ex)\n",
    "    {\n",
    "        Console.WriteLine($\"❌ Error testing {testCase.Agent.Name}: {ex.Message}\");\n",
    "        Console.WriteLine(new string('=', 70));\n",
    "        Console.WriteLine();\n",
    "    }\n",
    "}\n",
    "\n",
    "Console.WriteLine(\"✓ Specialized agent testing completed!\");\n",
    "Console.WriteLine(\"Each agent demonstrated expertise in their specialized domain.\");"
   ]
  },
  {
   "cell_type": "markdown",
   "id": "de8a502a",
   "metadata": {},
   "source": [
    "### Create Group Chat with All Three Agents"
   ]
  },
  {
   "cell_type": "code",
   "execution_count": null,
   "id": "8ebe320c",
   "metadata": {
    "language_info": {
     "name": "polyglot-notebook"
    },
    "polyglot_notebook": {
     "kernelName": "csharp"
    }
   },
   "outputs": [],
   "source": [
    "// Create Group Chat with Modern AgentGroupChat\n",
    "// This demonstrates multi-agent collaboration using Semantic Kernel's built-in group chat\n",
    "\n",
    "Console.WriteLine(\"Creating Agent Group Chat...\");\n",
    "\n",
    "// Create an AgentGroupChat with all three agents\n",
    "var groupChat = new AgentGroupChat(genericAgent, peopleAgent, knowledgeAgent)\n",
    "{\n",
    "    // Configure the execution settings for the group chat\n",
    "    ExecutionSettings = new OpenAIPromptExecutionSettings()\n",
    "    {\n",
    "        ToolCallBehavior = ToolCallBehavior.AutoInvokeKernelFunctions,\n",
    "        Temperature = 0.7,\n",
    "        MaxTokens = 1000\n",
    "    }\n",
    "};\n",
    "\n",
    "Console.WriteLine(\"✓ Agent Group Chat created successfully!\");\n",
    "Console.WriteLine($\"Participants: {string.Join(\", \", new[] { genericAgent.Name, peopleAgent.Name, knowledgeAgent.Name })}\");\n",
    "Console.WriteLine(\"Ready for multi-agent collaboration!\");\n",
    "\n",
    "// Test the group chat with a complex question that benefits from multiple perspectives\n",
    "var complexQuestion = @\"We're launching a new AI-powered project management tool. \n",
    "We need to understand:\n",
    "1. Who should be involved in the development team?\n",
    "2. What technical knowledge and best practices should we consider?\n",
    "3. How can we ensure the project is successful?\n",
    "\n",
    "Please provide a comprehensive response with insights from different perspectives.\";\n",
    "\n",
    "Console.WriteLine();\n",
    "Console.WriteLine(\"Testing Group Chat with Complex Question:\");\n",
    "Console.WriteLine($\"Question: {complexQuestion}\");\n",
    "Console.WriteLine(new string('=', 80));\n",
    "\n",
    "try\n",
    "{\n",
    "    // Add the user question to the group chat\n",
    "    groupChat.AddChatMessage(new ChatMessageContent(AuthorRole.User, complexQuestion));\n",
    "    \n",
    "    Console.WriteLine(\"Starting group chat collaboration...\");\n",
    "    \n",
    "    // Track the conversation\n",
    "    int messageCount = 0;\n",
    "    const int maxMessages = 6; // Limit to prevent too long conversations\n",
    "    \n",
    "    // Process the group chat conversation\n",
    "    await foreach (var message in groupChat.InvokeAsync())\n",
    "    {\n",
    "        messageCount++;\n",
    "        var author = message.AuthorName ?? \"Unknown\";\n",
    "        \n",
    "        Console.WriteLine($\"\\n[{messageCount}] {author}:\");\n",
    "        Console.WriteLine($\"{message.Content}\");\n",
    "        Console.WriteLine(new string('-', 60));\n",
    "        \n",
    "        // Break if we've reached the message limit\n",
    "        if (messageCount >= maxMessages)\n",
    "        {\n",
    "            Console.WriteLine(\"\\n[Conversation limit reached for demo purposes]\");\n",
    "            break;\n",
    "        }\n",
    "    }\n",
    "    \n",
    "    Console.WriteLine();\n",
    "    Console.WriteLine(\"✓ Group Chat completed successfully!\");\n",
    "    Console.WriteLine($\"Generated {messageCount} messages from multiple agents working together!\");\n",
    "}\n",
    "catch (Exception ex)\n",
    "{\n",
    "    Console.WriteLine($\"❌ Error in group chat: {ex.Message}\");\n",
    "    Console.WriteLine(\"Please check your Azure OpenAI configuration and try again.\");\n",
    "}"
   ]
  },
  {
   "cell_type": "markdown",
   "id": "c643a848",
   "metadata": {},
   "source": [
    "### Test Group Chat System"
   ]
  },
  {
   "cell_type": "code",
   "execution_count": null,
   "id": "ff75b353",
   "metadata": {
    "language_info": {
     "name": "polyglot-notebook"
    },
    "polyglot_notebook": {
     "kernelName": "csharp"
    }
   },
   "outputs": [],
   "source": [
    "// Try Your Own Group Chat Question\n",
    "// Modify the question below to explore different multi-agent scenarios\n",
    "\n",
    "Console.WriteLine(\"Custom Group Chat Test\");\n",
    "Console.WriteLine(\"Feel free to modify the question below to explore different topics!\");\n",
    "Console.WriteLine();\n",
    "\n",
    "// MODIFY THIS QUESTION to test different scenarios:\n",
    "var customQuestion = @\"How can we improve remote team collaboration? \n",
    "Consider finding the right people, knowledge management, and general best practices.\";\n",
    "\n",
    "Console.WriteLine($\"Your Question: {customQuestion}\");\n",
    "Console.WriteLine(new string('=', 60));\n",
    "\n",
    "try\n",
    "{\n",
    "    // Create a new group chat for this custom question\n",
    "    var customGroupChat = new AgentGroupChat(genericAgent, peopleAgent, knowledgeAgent);\n",
    "    \n",
    "    // Add the custom question\n",
    "    customGroupChat.AddChatMessage(new ChatMessageContent(AuthorRole.User, customQuestion));\n",
    "    \n",
    "    Console.WriteLine(\"Starting custom group chat...\");\n",
    "    \n",
    "    // Track the conversation\n",
    "    int messageCount = 0;\n",
    "    const int maxMessages = 4; // Shorter for custom test\n",
    "    \n",
    "    // Process the group chat conversation\n",
    "    await foreach (var message in customGroupChat.InvokeAsync())\n",
    "    {\n",
    "        messageCount++;\n",
    "        var author = message.AuthorName ?? \"Unknown\";\n",
    "        \n",
    "        Console.WriteLine($\"\\n[{messageCount}] {author}:\");\n",
    "        Console.WriteLine($\"{message.Content}\");\n",
    "        Console.WriteLine(new string('-', 40));\n",
    "        \n",
    "        // Break if we've reached the message limit\n",
    "        if (messageCount >= maxMessages)\n",
    "        {\n",
    "            Console.WriteLine(\"\\n[Demo limit reached]\");\n",
    "            break;\n",
    "        }\n",
    "    }\n",
    "    \n",
    "    Console.WriteLine();\n",
    "    Console.WriteLine(\"✓ Custom group chat completed!\");\n",
    "    Console.WriteLine(\"Feel free to modify the customQuestion above to explore different topics!\");\n",
    "}\n",
    "catch (Exception ex)\n",
    "{\n",
    "    Console.WriteLine($\"❌ Error in custom group chat: {ex.Message}\");\n",
    "}"
   ]
  },
  {
   "cell_type": "markdown",
   "id": "ebdefe3f",
   "metadata": {},
   "source": [
    "## Workshop Summary\n",
    "\n",
    "Congratulations! You've successfully built modern AI agents using the latest Semantic Kernel patterns:\n",
    "\n",
    "### What You've Learned:\n",
    "\n",
    "1. **ChatCompletionAgent** - The modern way to create conversational agents in Semantic Kernel\n",
    "   - Simple, clean API for agent creation\n",
    "   - Built-in conversation management\n",
    "   - Easy integration with Azure OpenAI\n",
    "\n",
    "2. **Azure AI Foundry Agents** - Specialized agents with expert knowledge\n",
    "   - PeopleLookupAgent for finding contacts and team information\n",
    "   - KnowledgeFinderAgent for research and information retrieval\n",
    "   - Focused expertise with clear role definitions\n",
    "\n",
    "3. **AgentGroupChat** - Multi-agent collaboration made simple\n",
    "   - Built-in orchestration and coordination\n",
    "   - Natural conversation flow between agents\n",
    "   - Automatic turn-taking and response synthesis\n",
    "\n",
    "### Key Benefits of This Approach:\n",
    "- ✅ **Modern Pattern** - Uses latest Semantic Kernel 1.30.0 features\n",
    "- ✅ **Production Ready** - Same patterns used in the backend API\n",
    "- ✅ **Simplified Code** - Less boilerplate, more functionality\n",
    "- ✅ **Azure Integration** - Seamless Azure OpenAI connectivity\n",
    "\n",
    "### Next Steps:\n",
    "- Explore the backend API at `/Backend/dotnet/sk/`\n",
    "- Try different agent instructions and personalities\n",
    "- Experiment with more complex group chat scenarios\n",
    "- Build your own specialized agents for specific domains\n",
    "\n",
    "You now have the foundation to build sophisticated multi-agent AI systems!"
   ]
  }
 ],
 "metadata": {
  "kernelspec": {
   "display_name": ".NET (C#)",
   "language": "C#",
   "name": ".net-csharp"
  },
  "language_info": {
   "name": "polyglot-notebook"
  },
  "polyglot_notebook": {
   "kernelInfo": {
    "defaultKernelName": "csharp",
    "items": [
     {
      "aliases": [],
      "name": "csharp"
     }
    ]
   }
  }
 },
 "nbformat": 4,
 "nbformat_minor": 5
}
